{
 "cells": [
  {
   "cell_type": "code",
   "execution_count": 1,
   "id": "ff59b110-50b4-43b3-9e66-db11d0464d5b",
   "metadata": {},
   "outputs": [],
   "source": [
    "import numpy as np\n",
    "import pandas as pd"
   ]
  },
  {
   "cell_type": "markdown",
   "id": "6c4d7b16-815a-4774-834b-2355f254808f",
   "metadata": {},
   "source": [
    "## Original author: QQQiwi"
   ]
  },
  {
   "cell_type": "markdown",
   "id": "66dd5c3d-afa9-4f68-848d-ec29c7259a10",
   "metadata": {},
   "source": [
    "### Date for stats"
   ]
  },
  {
   "cell_type": "code",
   "execution_count": 16,
   "id": "fde24f3f-9da6-4043-a84f-5f6e35f0b668",
   "metadata": {},
   "outputs": [],
   "source": [
    "date = \"ЗАПОЛНИТЬ ДАТУ\" #ЗАПОЛНЯТЬ ДАТУ КАЖДЫЙ ПН."
   ]
  },
  {
   "cell_type": "markdown",
   "id": "ba345758-1e3d-4bd7-922d-2968d438d402",
   "metadata": {},
   "source": [
    "### Mean time statistic"
   ]
  },
  {
   "cell_type": "code",
   "execution_count": 17,
   "id": "74368844-e9e3-46e6-b141-492e3101ac80",
   "metadata": {},
   "outputs": [
    {
     "data": {
      "text/html": [
       "<div>\n",
       "<style scoped>\n",
       "    .dataframe tbody tr th:only-of-type {\n",
       "        vertical-align: middle;\n",
       "    }\n",
       "\n",
       "    .dataframe tbody tr th {\n",
       "        vertical-align: top;\n",
       "    }\n",
       "\n",
       "    .dataframe thead th {\n",
       "        text-align: right;\n",
       "    }\n",
       "</style>\n",
       "<table border=\"1\" class=\"dataframe\">\n",
       "  <thead>\n",
       "    <tr style=\"text-align: right;\">\n",
       "      <th></th>\n",
       "      <th>duns</th>\n",
       "      <th>domain</th>\n",
       "      <th>gt_domain</th>\n",
       "      <th>business_name</th>\n",
       "      <th>address_1</th>\n",
       "      <th>address_2</th>\n",
       "      <th>city_name</th>\n",
       "      <th>state_name</th>\n",
       "      <th>postal_code</th>\n",
       "      <th>country_name</th>\n",
       "      <th>line_of_business</th>\n",
       "      <th>better_domain</th>\n",
       "      <th>perfect_match</th>\n",
       "      <th>probably_match</th>\n",
       "      <th>not_match</th>\n",
       "      <th>alternative_domain</th>\n",
       "      <th>comment</th>\n",
       "      <th>time</th>\n",
       "    </tr>\n",
       "  </thead>\n",
       "  <tbody>\n",
       "    <tr>\n",
       "      <th>0</th>\n",
       "      <td>9606281</td>\n",
       "      <td>www.ridesta.com</td>\n",
       "      <td>ridesta.com</td>\n",
       "      <td>Student Transportation of America, Inc.</td>\n",
       "      <td>3349 State Route 138</td>\n",
       "      <td>NaN</td>\n",
       "      <td>WALL TOWNSHIP</td>\n",
       "      <td>New Jersey</td>\n",
       "      <td>7719</td>\n",
       "      <td>USA</td>\n",
       "      <td>School bus service</td>\n",
       "      <td>ridesta.com</td>\n",
       "      <td>1.0</td>\n",
       "      <td>NaN</td>\n",
       "      <td>NaN</td>\n",
       "      <td>NaN</td>\n",
       "      <td>NaN</td>\n",
       "      <td>2,00</td>\n",
       "    </tr>\n",
       "    <tr>\n",
       "      <th>1</th>\n",
       "      <td>278145859</td>\n",
       "      <td>eiffage.com</td>\n",
       "      <td>eiffageenergiesystemes.com</td>\n",
       "      <td>EIFFAGE ENERGIE SYSTEMES - REGIONS FRANCE</td>\n",
       "      <td>3-7</td>\n",
       "      <td>3 PL DE L EUROPE</td>\n",
       "      <td>VELIZY-VILLACOUBLAY</td>\n",
       "      <td>YVELINES</td>\n",
       "      <td>78140</td>\n",
       "      <td>FRANCE</td>\n",
       "      <td>Electrical contractor</td>\n",
       "      <td>eiffageenergiesystemes.com</td>\n",
       "      <td>1.0</td>\n",
       "      <td>NaN</td>\n",
       "      <td>NaN</td>\n",
       "      <td>NaN</td>\n",
       "      <td>NaN</td>\n",
       "      <td>5,00</td>\n",
       "    </tr>\n",
       "    <tr>\n",
       "      <th>2</th>\n",
       "      <td>211990304</td>\n",
       "      <td>fujitsu.com</td>\n",
       "      <td>uk.fujitsu.com</td>\n",
       "      <td>FUJITSU SERVICES HOLDINGS PLC</td>\n",
       "      <td>Lovelace Road</td>\n",
       "      <td>NaN</td>\n",
       "      <td>BRACKNELL</td>\n",
       "      <td>BERKSHIRE</td>\n",
       "      <td>RG12</td>\n",
       "      <td>ENGLAND</td>\n",
       "      <td>Computer related services</td>\n",
       "      <td>uk.fujitsu.com</td>\n",
       "      <td>1.0</td>\n",
       "      <td>NaN</td>\n",
       "      <td>NaN</td>\n",
       "      <td>NaN</td>\n",
       "      <td>NaN</td>\n",
       "      <td>2,00</td>\n",
       "    </tr>\n",
       "    <tr>\n",
       "      <th>3</th>\n",
       "      <td>654253814</td>\n",
       "      <td>lyfiber.com</td>\n",
       "      <td>petrochina.com.cn</td>\n",
       "      <td>PetroChina Liaoyang Petroleum Chemical Fiber C...</td>\n",
       "      <td>No.5, Huoju Street, Hongwei District</td>\n",
       "      <td>NaN</td>\n",
       "      <td>Liaoyang</td>\n",
       "      <td>Liaoning</td>\n",
       "      <td>11100</td>\n",
       "      <td>CHINA</td>\n",
       "      <td>Mfg organic fiber-noncellulosic</td>\n",
       "      <td>lyfiber.com</td>\n",
       "      <td>NaN</td>\n",
       "      <td>1.0</td>\n",
       "      <td>NaN</td>\n",
       "      <td>NaN</td>\n",
       "      <td>NaN</td>\n",
       "      <td>7,30</td>\n",
       "    </tr>\n",
       "    <tr>\n",
       "      <th>4</th>\n",
       "      <td>214511420</td>\n",
       "      <td>gxo.com</td>\n",
       "      <td>europe.xpo.com</td>\n",
       "      <td>GXO LOGISTICS UK LIMITED</td>\n",
       "      <td>Building 1</td>\n",
       "      <td>Haymarket Square</td>\n",
       "      <td>EDINBURGH</td>\n",
       "      <td>MIDLOTHIAN</td>\n",
       "      <td>EH3 8</td>\n",
       "      <td>SCOTLAND</td>\n",
       "      <td>Trucking operator-nonlocal</td>\n",
       "      <td>gxo.com</td>\n",
       "      <td>NaN</td>\n",
       "      <td>1.0</td>\n",
       "      <td>NaN</td>\n",
       "      <td>NaN</td>\n",
       "      <td>NaN</td>\n",
       "      <td>5,70</td>\n",
       "    </tr>\n",
       "  </tbody>\n",
       "</table>\n",
       "</div>"
      ],
      "text/plain": [
       "        duns           domain                   gt_domain  \\\n",
       "0    9606281  www.ridesta.com                 ridesta.com   \n",
       "1  278145859      eiffage.com  eiffageenergiesystemes.com   \n",
       "2  211990304      fujitsu.com              uk.fujitsu.com   \n",
       "3  654253814      lyfiber.com           petrochina.com.cn   \n",
       "4  214511420          gxo.com              europe.xpo.com   \n",
       "\n",
       "                                       business_name  \\\n",
       "0            Student Transportation of America, Inc.   \n",
       "1          EIFFAGE ENERGIE SYSTEMES - REGIONS FRANCE   \n",
       "2                      FUJITSU SERVICES HOLDINGS PLC   \n",
       "3  PetroChina Liaoyang Petroleum Chemical Fiber C...   \n",
       "4                           GXO LOGISTICS UK LIMITED   \n",
       "\n",
       "                              address_1         address_2  \\\n",
       "0                  3349 State Route 138               NaN   \n",
       "1                                   3-7  3 PL DE L EUROPE   \n",
       "2                         Lovelace Road               NaN   \n",
       "3  No.5, Huoju Street, Hongwei District               NaN   \n",
       "4                            Building 1  Haymarket Square   \n",
       "\n",
       "             city_name  state_name postal_code country_name  \\\n",
       "0        WALL TOWNSHIP  New Jersey        7719          USA   \n",
       "1  VELIZY-VILLACOUBLAY    YVELINES       78140       FRANCE   \n",
       "2            BRACKNELL   BERKSHIRE        RG12      ENGLAND   \n",
       "3             Liaoyang    Liaoning       11100        CHINA   \n",
       "4            EDINBURGH  MIDLOTHIAN       EH3 8     SCOTLAND   \n",
       "\n",
       "                  line_of_business               better_domain  perfect_match  \\\n",
       "0               School bus service                 ridesta.com            1.0   \n",
       "1            Electrical contractor  eiffageenergiesystemes.com            1.0   \n",
       "2        Computer related services              uk.fujitsu.com            1.0   \n",
       "3  Mfg organic fiber-noncellulosic                 lyfiber.com            NaN   \n",
       "4       Trucking operator-nonlocal                     gxo.com            NaN   \n",
       "\n",
       "   probably_match  not_match alternative_domain comment  time  \n",
       "0             NaN        NaN                NaN     NaN  2,00  \n",
       "1             NaN        NaN                NaN     NaN  5,00  \n",
       "2             NaN        NaN                NaN     NaN  2,00  \n",
       "3             1.0        NaN                NaN     NaN  7,30  \n",
       "4             1.0        NaN                NaN     NaN  5,70  "
      ]
     },
     "execution_count": 17,
     "metadata": {},
     "output_type": "execute_result"
    }
   ],
   "source": [
    "main_sample = pd.read_csv('main_sample.csv')\n",
    "main_sample.head()"
   ]
  },
  {
   "cell_type": "code",
   "execution_count": 18,
   "id": "4bb5071b-1a26-436f-be79-3db2ff41ecef",
   "metadata": {
    "collapsed": true,
    "jupyter": {
     "outputs_hidden": true
    }
   },
   "outputs": [
    {
     "name": "stdout",
     "output_type": "stream",
     "text": [
      "Среднее время на ЗАПОЛНИТЬ ДАТУ\n"
     ]
    },
    {
     "data": {
      "text/plain": [
       "2.68"
      ]
     },
     "execution_count": 18,
     "metadata": {},
     "output_type": "execute_result"
    }
   ],
   "source": [
    "mean_time = main_sample['time'].dropna()\n",
    "mean_time = mean_time.str.replace(',', '.').astype(float)\n",
    "\n",
    "print(f\"Среднее время на {date}\")\n",
    "mean_time.mean().round(2)"
   ]
  },
  {
   "cell_type": "markdown",
   "id": "9f61661f-edc9-412b-b90b-775b764b81d2",
   "metadata": {},
   "source": [
    "### Statistic for each employee"
   ]
  },
  {
   "cell_type": "code",
   "execution_count": 20,
   "id": "bfc9a376-f849-44b5-b8d9-433a9cbd6e43",
   "metadata": {},
   "outputs": [
    {
     "data": {
      "text/html": [
       "<div>\n",
       "<style scoped>\n",
       "    .dataframe tbody tr th:only-of-type {\n",
       "        vertical-align: middle;\n",
       "    }\n",
       "\n",
       "    .dataframe tbody tr th {\n",
       "        vertical-align: top;\n",
       "    }\n",
       "\n",
       "    .dataframe thead tr th {\n",
       "        text-align: left;\n",
       "    }\n",
       "</style>\n",
       "<table border=\"1\" class=\"dataframe\">\n",
       "  <thead>\n",
       "    <tr>\n",
       "      <th></th>\n",
       "      <th>День</th>\n",
       "      <th colspan=\"3\" halign=\"left\">Рома</th>\n",
       "      <th colspan=\"3\" halign=\"left\">Харитон</th>\n",
       "      <th colspan=\"3\" halign=\"left\">Саша</th>\n",
       "      <th>Unnamed: 10_level_0</th>\n",
       "      <th>Unnamed: 11_level_0</th>\n",
       "    </tr>\n",
       "    <tr>\n",
       "      <th></th>\n",
       "      <th>Unnamed: 0_level_1</th>\n",
       "      <th>samples</th>\n",
       "      <th>task</th>\n",
       "      <th>hour</th>\n",
       "      <th>samples</th>\n",
       "      <th>task</th>\n",
       "      <th>hour</th>\n",
       "      <th>samples</th>\n",
       "      <th>task</th>\n",
       "      <th>hour</th>\n",
       "      <th>Unnamed: 10_level_1</th>\n",
       "      <th>Unnamed: 11_level_1</th>\n",
       "    </tr>\n",
       "  </thead>\n",
       "  <tbody>\n",
       "    <tr>\n",
       "      <th>0</th>\n",
       "      <td>18-сент.-24</td>\n",
       "      <td>NaN</td>\n",
       "      <td>NaN</td>\n",
       "      <td>NaN</td>\n",
       "      <td>NaN</td>\n",
       "      <td>NaN</td>\n",
       "      <td>NaN</td>\n",
       "      <td>NaN</td>\n",
       "      <td>NaN</td>\n",
       "      <td>NaN</td>\n",
       "      <td>NaN</td>\n",
       "      <td>NaN</td>\n",
       "    </tr>\n",
       "    <tr>\n",
       "      <th>1</th>\n",
       "      <td>19-сент.-24</td>\n",
       "      <td>58.0</td>\n",
       "      <td>main</td>\n",
       "      <td>3.0</td>\n",
       "      <td>NaN</td>\n",
       "      <td>NaN</td>\n",
       "      <td>NaN</td>\n",
       "      <td>NaN</td>\n",
       "      <td>NaN</td>\n",
       "      <td>NaN</td>\n",
       "      <td>NaN</td>\n",
       "      <td>Half PayDay</td>\n",
       "    </tr>\n",
       "    <tr>\n",
       "      <th>2</th>\n",
       "      <td>20-сент.-24</td>\n",
       "      <td>20.0</td>\n",
       "      <td>main</td>\n",
       "      <td>1.0</td>\n",
       "      <td>NaN</td>\n",
       "      <td>NaN</td>\n",
       "      <td>NaN</td>\n",
       "      <td>NaN</td>\n",
       "      <td>NaN</td>\n",
       "      <td>NaN</td>\n",
       "      <td>NaN</td>\n",
       "      <td>Выходной</td>\n",
       "    </tr>\n",
       "    <tr>\n",
       "      <th>3</th>\n",
       "      <td>21-сент.-24</td>\n",
       "      <td>NaN</td>\n",
       "      <td>NaN</td>\n",
       "      <td>NaN</td>\n",
       "      <td>NaN</td>\n",
       "      <td>NaN</td>\n",
       "      <td>NaN</td>\n",
       "      <td>NaN</td>\n",
       "      <td>NaN</td>\n",
       "      <td>NaN</td>\n",
       "      <td>NaN</td>\n",
       "      <td>NaN</td>\n",
       "    </tr>\n",
       "    <tr>\n",
       "      <th>4</th>\n",
       "      <td>22-сент.-24</td>\n",
       "      <td>NaN</td>\n",
       "      <td>NaN</td>\n",
       "      <td>NaN</td>\n",
       "      <td>NaN</td>\n",
       "      <td>NaN</td>\n",
       "      <td>NaN</td>\n",
       "      <td>NaN</td>\n",
       "      <td>NaN</td>\n",
       "      <td>NaN</td>\n",
       "      <td>NaN</td>\n",
       "      <td>NaN</td>\n",
       "    </tr>\n",
       "  </tbody>\n",
       "</table>\n",
       "</div>"
      ],
      "text/plain": [
       "                День    Рома            Харитон              Саша            \\\n",
       "  Unnamed: 0_level_1 samples  task hour samples task hour samples task hour   \n",
       "0        18-сент.-24     NaN   NaN  NaN     NaN  NaN  NaN     NaN  NaN  NaN   \n",
       "1        19-сент.-24    58.0  main  3.0     NaN  NaN  NaN     NaN  NaN  NaN   \n",
       "2        20-сент.-24    20.0  main  1.0     NaN  NaN  NaN     NaN  NaN  NaN   \n",
       "3        21-сент.-24     NaN   NaN  NaN     NaN  NaN  NaN     NaN  NaN  NaN   \n",
       "4        22-сент.-24     NaN   NaN  NaN     NaN  NaN  NaN     NaN  NaN  NaN   \n",
       "\n",
       "  Unnamed: 10_level_0 Unnamed: 11_level_0  \n",
       "  Unnamed: 10_level_1 Unnamed: 11_level_1  \n",
       "0                 NaN                 NaN  \n",
       "1                 NaN         Half PayDay  \n",
       "2                 NaN            Выходной  \n",
       "3                 NaN                 NaN  \n",
       "4                 NaN                 NaN  "
      ]
     },
     "execution_count": 20,
     "metadata": {},
     "output_type": "execute_result"
    }
   ],
   "source": [
    "samples_count = pd.read_csv('sample_count.csv', header = [0, 1])\n",
    "samples_count.head()"
   ]
  },
  {
   "cell_type": "code",
   "execution_count": 25,
   "id": "50a6f1eb-3b0f-4bec-ba0c-b3d10df37f8e",
   "metadata": {},
   "outputs": [
    {
     "data": {
      "text/plain": [
       "Index(['Day', 'Рома_samples', 'Рома_task', 'Рома_hour', 'Харитон_samples',\n",
       "       'Харитон_task', 'Харитон_hour', 'Саша_samples', 'Саша_task',\n",
       "       'Саша_hour', 'Unnamed: 10_level_0_Unnamed: 10_level_1',\n",
       "       'Unnamed: 11_level_0_Unnamed: 11_level_1'],\n",
       "      dtype='object')"
      ]
     },
     "execution_count": 25,
     "metadata": {},
     "output_type": "execute_result"
    }
   ],
   "source": [
    "samples_count.columns = ['Day'] + ['_'.join(filter(None, col)).strip() for col in samples_count.columns[1:]]\n",
    "samples_count.columns"
   ]
  },
  {
   "cell_type": "code",
   "execution_count": 49,
   "id": "68e4431d-933c-434c-b732-be7466ae0b65",
   "metadata": {},
   "outputs": [
    {
     "name": "stdout",
     "output_type": "stream",
     "text": [
      "Статистика на ЗАПОЛНИТЬ ДАТУ:\n",
      "         Total Samples:  Total Hours:  Working Days:\n",
      "Саша                0.0          0.00            0.0\n",
      "Харитон            61.0          2.75            2.0\n",
      "Рома              402.0         20.00            9.0\n"
     ]
    }
   ],
   "source": [
    "for col in samples_count.columns:\n",
    "    if 'samples' in col or 'hour' in col:\n",
    "        samples_count[col] = samples_count[col].replace({\",\": \".\"}, regex = True).dropna().astype(float, errors = \"ignore\")\n",
    "\n",
    "samples_count.fillna(0, inplace = True)\n",
    "emp_list = ['Саша', 'Харитон', 'Рома']\n",
    "result = {}\n",
    "\n",
    "for emp in emp_list:\n",
    "    emp_total_samples = f'{emp}_samples'\n",
    "    emp_total_hours = f'{emp}_hour'\n",
    "    working_days = samples_count[samples_count[emp_total_samples] != 0].shape[0]\n",
    "\n",
    "    result[emp] = {'Total Samples:': samples_count[emp_total_samples].replace({0: None}).dropna().astype(float).sum(),\n",
    "                  'Total Hours:': samples_count[emp_total_hours].replace({0: None}).dropna().astype(float).sum(),\n",
    "                  'Working Days:': working_days}\n",
    "\n",
    "result_pd = pd.DataFrame(result).T\n",
    "print(f\"Статистика на {date}:\"); print(result_pd)"
   ]
  },
  {
   "cell_type": "markdown",
   "id": "d2f90358-d48c-4744-9b24-590a93f5b8f7",
   "metadata": {},
   "source": [
    "### Percentage"
   ]
  },
  {
   "cell_type": "code",
   "execution_count": 50,
   "id": "93550185-7507-463a-ab9f-010e18591442",
   "metadata": {},
   "outputs": [
    {
     "name": "stdout",
     "output_type": "stream",
     "text": [
      "10789\n",
      "463.0\n",
      "4.29%\n"
     ]
    }
   ],
   "source": [
    "sample_all = main_sample['time'].shape[0]\n",
    "sample_left = result_pd['Total Samples:'].sum()\n",
    "percentage = f\"{np.round((sample_left / sample_all * 100), 2)}%\"\n",
    "print(sample_all); print(sample_left); print(percentage)"
   ]
  },
  {
   "cell_type": "code",
   "execution_count": 51,
   "id": "469a62db-1e8f-4b11-869d-5dce1200d08a",
   "metadata": {},
   "outputs": [
    {
     "name": "stdout",
     "output_type": "stream",
     "text": [
      "Общая статистки на ЗАПОЛНИТЬ ДАТУ\n",
      "All Samples:       10789\n",
      "Marked Samples:    463.0\n",
      "Percentage:        4.29%\n",
      "dtype: object\n"
     ]
    }
   ],
   "source": [
    "print(f\"Общая статистки на {date}\"); print(pd.Series({'All Samples:': sample_all,\n",
    "                                                      'Marked Samples:':sample_left,\n",
    "                                                       'Percentage:':percentage}))"
   ]
  },
  {
   "cell_type": "code",
   "execution_count": null,
   "id": "c12604db-00a9-4c61-a3e5-f85b06519336",
   "metadata": {},
   "outputs": [],
   "source": []
  }
 ],
 "metadata": {
  "kernelspec": {
   "display_name": "Python 3 (ipykernel)",
   "language": "python",
   "name": "python3"
  },
  "language_info": {
   "codemirror_mode": {
    "name": "ipython",
    "version": 3
   },
   "file_extension": ".py",
   "mimetype": "text/x-python",
   "name": "python",
   "nbconvert_exporter": "python",
   "pygments_lexer": "ipython3",
   "version": "3.12.4"
  }
 },
 "nbformat": 4,
 "nbformat_minor": 5
}
